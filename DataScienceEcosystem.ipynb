{
 "cells": [
  {
   "cell_type": "markdown",
   "id": "bd0c67cf-a265-4f3c-942e-c8eabc0a487a",
   "metadata": {},
   "source": [
    "# Data Science Tools and Ecosystem"
   ]
  },
  {
   "cell_type": "markdown",
   "id": "27ba00bd-000d-4fb2-8550-00920603913a",
   "metadata": {},
   "source": [
    "In this notebook, Data Science Tools and Ecosystem are summarized."
   ]
  },
  {
   "cell_type": "markdown",
   "id": "5dc1863f-1798-4b18-abf5-edb477c9e9a2",
   "metadata": {},
   "source": [
    "__Objectives:__"
   ]
  },
  {
   "cell_type": "markdown",
   "id": "8028fc2d-794e-4474-b069-987600f40339",
   "metadata": {},
   "source": [
    "- List popular Languages for Data Science"
   ]
  },
  {
   "cell_type": "markdown",
   "id": "3aa1c474-77a9-4d7d-9434-45fd9e5d9665",
   "metadata": {},
   "source": [
    "- Get Familiar with working Environments like RStudio and Anaconda"
   ]
  },
  {
   "cell_type": "markdown",
   "id": "89f21d12-9ca7-4383-9293-10bc572979d2",
   "metadata": {},
   "source": [
    "- Get a basic understanding of Tools used in Data Science"
   ]
  },
  {
   "cell_type": "markdown",
   "id": "6406ecaf-e2ed-43dd-97ef-360e02b3d04b",
   "metadata": {},
   "source": [
    "Some of the popular languages that Data Scientists use are:"
   ]
  },
  {
   "cell_type": "markdown",
   "id": "25354b17-1792-40ea-8bbb-9564df5a8fee",
   "metadata": {},
   "source": [
    "1- Python"
   ]
  },
  {
   "cell_type": "markdown",
   "id": "199db83a-c81a-408b-9329-8387d3ce5491",
   "metadata": {},
   "source": [
    "2- R"
   ]
  },
  {
   "cell_type": "markdown",
   "id": "4124ef60-a3a8-49cb-a04c-19fbb12a57fb",
   "metadata": {},
   "source": [
    "3-  SQL"
   ]
  },
  {
   "cell_type": "markdown",
   "id": "88d0582b-8839-4b07-9e09-66d3f9a1d557",
   "metadata": {},
   "source": [
    "Some of the commonly used libraries used by Data Scientists include:"
   ]
  },
  {
   "cell_type": "markdown",
   "id": "4cd13467-0325-4c7e-80ed-fd893dd81bda",
   "metadata": {},
   "source": [
    "1- Numpy"
   ]
  },
  {
   "cell_type": "markdown",
   "id": "f69d0416-d3b4-4d6e-8c59-fac13aff2644",
   "metadata": {},
   "source": [
    "2- Pandas"
   ]
  },
  {
   "cell_type": "markdown",
   "id": "17c68b39-ad38-418d-a183-9cc8382cd5f8",
   "metadata": {},
   "source": [
    "3- Matplotlib"
   ]
  },
  {
   "cell_type": "markdown",
   "id": "fb5cbd15-c2ac-4e49-98eb-ef9f580eee94",
   "metadata": {},
   "source": [
    "| Data Science Tools|\n",
    "| ------ |\n",
    "| Visual Studio |\n",
    "| Anaconda |\n",
    "| RStudio |\n"
   ]
  },
  {
   "cell_type": "markdown",
   "id": "baf8fce5-b33a-44f4-917e-b3ad3180da13",
   "metadata": {},
   "source": [
    "### Below are a few examples of evaluating arithmetic expressions in Python"
   ]
  },
  {
   "cell_type": "code",
   "execution_count": 26,
   "id": "fad169de-8645-42ca-9d3b-0171e9373526",
   "metadata": {},
   "outputs": [
    {
     "data": {
      "text/plain": [
       "17"
      ]
     },
     "execution_count": 26,
     "metadata": {},
     "output_type": "execute_result"
    }
   ],
   "source": [
    "#this a simple arithmetic expression to mutiply then add integers\n",
    "\n",
    "(3*4)+5"
   ]
  },
  {
   "cell_type": "code",
   "execution_count": 28,
   "id": "5ce39268-e8ba-4ff0-a0e1-91ac1d094d59",
   "metadata": {},
   "outputs": [
    {
     "data": {
      "text/plain": [
       "3.3333333333333335"
      ]
     },
     "execution_count": 28,
     "metadata": {},
     "output_type": "execute_result"
    }
   ],
   "source": [
    "#This will convert 200 minutes to hours by diving by 60\n",
    "\n",
    "200/60"
   ]
  },
  {
   "cell_type": "markdown",
   "id": "1ea2f935-62d4-4dbe-acee-4a50ec2b7b41",
   "metadata": {},
   "source": [
    "## Author"
   ]
  },
  {
   "cell_type": "markdown",
   "id": "60e07195-745e-4e4c-a3de-88d3150a3069",
   "metadata": {},
   "source": [
    "Ibtisam ur Rahman Khilji"
   ]
  },
  {
   "cell_type": "code",
   "execution_count": null,
   "id": "185307c8-0bb7-441b-9f79-dfbeb38feac1",
   "metadata": {},
   "outputs": [],
   "source": []
  }
 ],
 "metadata": {
  "kernelspec": {
   "display_name": "Python 3 (ipykernel)",
   "language": "python",
   "name": "python3"
  },
  "language_info": {
   "codemirror_mode": {
    "name": "ipython",
    "version": 3
   },
   "file_extension": ".py",
   "mimetype": "text/x-python",
   "name": "python",
   "nbconvert_exporter": "python",
   "pygments_lexer": "ipython3",
   "version": "3.11.7"
  }
 },
 "nbformat": 4,
 "nbformat_minor": 5
}
